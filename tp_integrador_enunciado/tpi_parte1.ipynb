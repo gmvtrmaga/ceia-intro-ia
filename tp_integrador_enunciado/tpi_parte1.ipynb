{
  "cells": [
    {
      "attachments": {},
      "cell_type": "markdown",
      "id": "07289bb0",
      "metadata": {},
      "source": [
        "# Trabajo integrador - Parte 1\n",
        "## Python y Numpy\n",
        "\n",
        "**Nombre**:"
      ]
    },
    {
      "cell_type": "code",
      "execution_count": 44,
      "id": "aaf94e0a",
      "metadata": {
        "id": "aaf94e0a"
      },
      "outputs": [],
      "source": [
        "import numpy as np"
      ]
    },
    {
      "attachments": {},
      "cell_type": "markdown",
      "id": "0ffe9554",
      "metadata": {},
      "source": [
        "## Ejercicio 1\n",
        "\n",
        "Dada una matriz en formato *numpy array*, donde cada fila de la matriz representa un vector matemático, se requiere computar las normas $l_0$, $l_1$, $l_2$, $l_{\\infty}$, según la siguientes definiciones:\n",
        "\n",
        "\\begin{equation}\n",
        "    ||\\mathbf{x}||^{p} = \\bigg(\\sum_{j=1}^{n}{|x_i|^p}\\bigg)^{\\frac{1}{p}}\n",
        "\\end{equation}\n",
        "\n",
        "con los casos especiales para $p=0$ y $p=\\infty$ siendo:\n",
        "\n",
        "\\begin{equation}\n",
        "    \\begin{array}{rcl}\n",
        "        ||\\mathbf{x}||_0 & = & \\bigg(\\sum_{j=1 \\wedge x_j != 0}{|x_i|}\\bigg)\\\\\n",
        "        ||\\mathbf{x}||_{\\infty} & = & \\max_{i}{|x_i|}\\\\\n",
        "    \\end{array}\n",
        "\\end{equation}"
      ]
    },
    {
      "cell_type": "code",
      "execution_count": 45,
      "id": "0bdb0ee3",
      "metadata": {},
      "outputs": [],
      "source": [
        "#DEFINICION DE FUNCIONES\n",
        "# Procesamiento de la norma en la fila\n",
        "def processRowNorm(r: np.ndarray, n: float):\n",
        "    if n == 0:\n",
        "        return np.count_nonzero(r)\n",
        "    elif np.isinf(n):\n",
        "        return np.max(np.abs(r))\n",
        "    else:\n",
        "        return np.sum(np.abs(r) ** n) ** (1 / n)\n",
        "\n",
        "# Procesamiento de la norma en la matriz\n",
        "def norm(m: np.ndarray, n: float):\n",
        "    return np.apply_along_axis(processRowNorm, 1, m, n)"
      ]
    },
    {
      "cell_type": "code",
      "execution_count": 46,
      "id": "b1fcede2",
      "metadata": {},
      "outputs": [
        {
          "name": "stdout",
          "output_type": "stream",
          "text": [
            "[3 3 3 1]\n",
            "[ 3  6  9 10]\n",
            "[ 3.74165739  8.77496439 13.92838828 10.        ]\n"
          ]
        }
      ],
      "source": [
        "# EJECUCION DE FUNCIONES\n",
        "m = np.array([[1, 2, 3], [4, 5, 6], [7, 8, 9], [0, 10, 0]])\n",
        "\n",
        "print(norm(m, 0))\n",
        "print(norm(m, np.inf))\n",
        "print(norm(m, 2))"
      ]
    },
    {
      "attachments": {},
      "cell_type": "markdown",
      "id": "dd66d862",
      "metadata": {},
      "source": [
        "## Ejercicio 2\n",
        "\n",
        "En clasificación contamos con dos arreglos, la “verdad” y la “predicción”. Cada elemento de los arreglos pueden tomar dos valores, “True” (representado por 1) y “False” (representado por 0). Entonces podemos definir 4 variables:\n",
        "\n",
        "* True Positive (TP): El valor verdadero es 1 y el valor predicho es 1\n",
        "* True Negative (TN): El valor verdadero es 0 y el valor predicho es 0\n",
        "* False Positive (FP): El valor verdadero es 0 y el valor predicho es 1\n",
        "* False Negative (FN): El valor verdadero es 1 y el valor predicho es 0\n",
        "\n",
        "A partir de esto definimos:\n",
        "\n",
        "* Precision = TP / (TP + FP)\n",
        "* Recall = TP / (TP + FN)\n",
        "* Accuracy = (TP + TN) / (TP + TN + FP + FN)\n",
        " \n",
        "Calcular las 3 métricas con Numpy y operaciones vectorizadas."
      ]
    },
    {
      "cell_type": "code",
      "execution_count": 47,
      "id": "d8cf2b44",
      "metadata": {},
      "outputs": [],
      "source": [
        "# DEFINICION DE FUNCION\n",
        "def hypothesisMetrics(prediction: np.ndarray, truth: np.ndarray):\n",
        "    TP = (prediction & truth).astype(int).sum()\n",
        "    TN = np.logical_not(prediction | truth).astype(int).sum()\n",
        "    FP = (prediction & np.logical_not(truth)).astype(int).sum()\n",
        "    FN = np.logical_not(prediction | np.logical_not(truth)).astype(int).sum()\n",
        "\n",
        "    return {\n",
        "        \"precision\": TP / (TP + FP),\n",
        "        \"recall\": TP / (TP + FN),\n",
        "        \"accuracy\": (TP + TN) / (TP + TN + FP + FN),\n",
        "    }"
      ]
    },
    {
      "cell_type": "code",
      "execution_count": 48,
      "id": "794dcd58",
      "metadata": {},
      "outputs": [
        {
          "name": "stdout",
          "output_type": "stream",
          "text": [
            "{'precision': 0.5, 'recall': 0.5, 'accuracy': 0.4}\n"
          ]
        }
      ],
      "source": [
        "#EJECUCION DE FUNCION\n",
        "prediction = np.array([1,1,1,1,0,0,1,1,0,0])\n",
        "truth = np.array     ([1,1,0,1,1,1,0,0,0,1])\n",
        "\n",
        "print(hypothesisMetrics(prediction, truth))"
      ]
    },
    {
      "attachments": {},
      "cell_type": "markdown",
      "id": "d0ac6f6f",
      "metadata": {},
      "source": [
        "## Ejercicio 3\n",
        "\n",
        "Crear una función que separe los datos en train-validation-test. Debe recibir de parametros:\n",
        "\n",
        "- X: Array o Dataframe que contiene los datos de entrada del sistema.\n",
        "- y: Array o Dataframe que contiene la(s) variable(s) target del problema.\n",
        "- train_percentage: _float_ el porcentaje de training.\n",
        "- test_percentage: _float_ el porcentaje de testing.\n",
        "- val_percentage: _float_ el porcentaje de validación.\n",
        "- shuffle: _bool_ determina si el split debe hacerse de manera random o no.\n",
        "\n",
        "Hints: \n",
        "\n",
        "* Usar Indexing y slicing\n",
        "* Usar np.random.[...]"
      ]
    },
    {
      "cell_type": "code",
      "execution_count": 62,
      "id": "ca85fc66",
      "metadata": {},
      "outputs": [],
      "source": [
        "# DEFINICION DE FUNCION\n",
        "def split(\n",
        "    X_input: np.ndarray,\n",
        "    Y_input: np.ndarray,\n",
        "    train_size: float = 0.7,\n",
        "    val_size: float = 0.15,\n",
        "    test_size: float = 0.15,\n",
        "    random_state: int = 42,\n",
        "    shuffle: bool = True,\n",
        "):\n",
        "    dataset_size = len(X_input)\n",
        "    indexes = np.array(range(dataset_size))\n",
        "\n",
        "    if shuffle:\n",
        "        if random_state is not None:\n",
        "            np.random.seed(random_state)\n",
        "        np.random.shuffle(indexes)\n",
        "\n",
        "    indexFrom = indexTo = 0\n",
        "    train_indexes = val_indexes = test_indexes = np.array([])\n",
        "\n",
        "    if train_size > 0:\n",
        "        indexTo += int(dataset_size * train_size)\n",
        "        train_indexes = indexes[indexFrom:indexTo]\n",
        "        indexFrom = indexTo\n",
        "\n",
        "    if val_size > 0:\n",
        "        indexTo += int(dataset_size * val_size)\n",
        "        val_indexes = indexes[indexFrom:indexTo]\n",
        "        indexFrom = indexTo\n",
        "\n",
        "    if test_size > 0:\n",
        "        indexTo += int(dataset_size * test_size)\n",
        "        test_indexes = indexes[indexFrom:indexTo]\n",
        "\n",
        "    return {\n",
        "        \"x_train\": X_input[train_indexes] if train_size > 0 else [],\n",
        "        \"y_train\": Y_input[train_indexes] if train_size > 0 else [],\n",
        "        \"x_val\": X_input[val_indexes] if val_size > 0 else [],\n",
        "        \"y_val\": Y_input[val_indexes] if val_size > 0 else [],\n",
        "        \"x_test\": X_input[test_indexes] if test_size > 0 else [],\n",
        "        \"y_test\": Y_input[test_indexes] if test_size > 0 else [],\n",
        "    }"
      ]
    },
    {
      "cell_type": "code",
      "execution_count": 63,
      "metadata": {},
      "outputs": [
        {
          "name": "stdout",
          "output_type": "stream",
          "text": [
            "{'x_train': array([ 1,  2,  3,  4,  5,  6,  7,  8,  9, 10, 11, 12, 13, 14]), 'y_train': array([ 1.,  2.,  3.,  4.,  5.,  6.,  7.,  8.,  9., 10., 11., 12., 13.,\n",
            "       14.]), 'x_val': array([15, 16, 17]), 'y_val': array([15., 16., 17.]), 'x_test': array([18, 19, 20]), 'y_test': array([18., 19., 20.])}\n",
            "{'x_train': array([11,  9,  5,  7, 17, 15, 12, 16,  8, 20,  3,  4, 14,  1]), 'y_train': array([11.,  9.,  5.,  7., 17., 15., 12., 16.,  8., 20.,  3.,  4., 14.,\n",
            "        1.]), 'x_val': array([19, 10,  6]), 'y_val': array([19., 10.,  6.]), 'x_test': array([13,  2, 18]), 'y_test': array([13.,  2., 18.])}\n",
            "{'x_train': array([ 1,  2,  3,  4,  5,  6,  7,  8,  9, 10, 11, 12, 13, 14, 15, 16, 17]), 'y_train': array([ 1.,  2.,  3.,  4.,  5.,  6.,  7.,  8.,  9., 10., 11., 12., 13.,\n",
            "       14., 15., 16., 17.]), 'x_val': [], 'y_val': [], 'x_test': array([18, 19, 20]), 'y_test': array([18., 19., 20.])}\n"
          ]
        }
      ],
      "source": [
        "# EJECUCION DE FUNCIÓN\n",
        "dataset_X = np.array(\n",
        "    [1, 2, 3, 4, 5, 6, 7, 8, 9, 10, 11, 12, 13, 14, 15, 16, 17, 18, 19, 20]\n",
        ")\n",
        "dataset_Y = np.array(\n",
        "    [\n",
        "        1.0,\n",
        "        2.0,\n",
        "        3.0,\n",
        "        4.0,\n",
        "        5.0,\n",
        "        6.0,\n",
        "        7.0,\n",
        "        8.0,\n",
        "        9.0,\n",
        "        10.0,\n",
        "        11.0,\n",
        "        12.0,\n",
        "        13.0,\n",
        "        14.0,\n",
        "        15.0,\n",
        "        16.0,\n",
        "        17.0,\n",
        "        18.0,\n",
        "        19.0,\n",
        "        20.0,\n",
        "    ]\n",
        ")\n",
        "\n",
        "splitSets = split(dataset_X, dataset_Y, shuffle=False)\n",
        "\n",
        "print(splitSets)\n",
        "\n",
        "splitSets = split(dataset_X, dataset_Y, random_state=1024)\n",
        "\n",
        "print(splitSets)\n",
        "\n",
        "splitSets = split(dataset_X, dataset_Y, train_size=0.85, val_size=0, shuffle=False)\n",
        "\n",
        "print(splitSets)"
      ]
    }
  ],
  "metadata": {
    "colab": {
      "collapsed_sections": [],
      "name": "Practica_clase_3.ipynb",
      "provenance": []
    },
    "kernelspec": {
      "display_name": "Python 3.10.7 64-bit",
      "language": "python",
      "name": "python3"
    },
    "language_info": {
      "codemirror_mode": {
        "name": "ipython",
        "version": 3
      },
      "file_extension": ".py",
      "mimetype": "text/x-python",
      "name": "python",
      "nbconvert_exporter": "python",
      "pygments_lexer": "ipython3",
      "version": "3.9.13"
    },
    "vscode": {
      "interpreter": {
        "hash": "b5c22da4a52024410f64f9c5a5e2b4ffeeb944a5ed00e8825a42174cdab30315"
      }
    }
  },
  "nbformat": 4,
  "nbformat_minor": 5
}
